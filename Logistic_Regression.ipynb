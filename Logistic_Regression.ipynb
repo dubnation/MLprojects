{
  "cells": [
    {
      "cell_type": "markdown",
      "metadata": {
        "id": "9qBXWwrLA_sL"
      },
      "source": [
        "### **Loading the Data into x_train and y_train**"
      ]
    },
    {
      "cell_type": "code",
      "execution_count": null,
      "metadata": {
        "id": "YCXNTGfJ81Z9"
      },
      "outputs": [],
      "source": [
        "import pandas as pd\n",
        "import numpy as np\n",
        "import matplotlib.pyplot as plt\n",
        "import math\n",
        "from sklearn.preprocessing import PolynomialFeatures, StandardScaler\n",
        "from sklearn.model_selection import train_test_split"
      ]
    },
    {
      "cell_type": "code",
      "execution_count": null,
      "metadata": {
        "colab": {
          "base_uri": "https://localhost:8080/"
        },
        "id": "KiwBT2KT9I6T",
        "outputId": "baed1913-bb6f-401e-9b36-db10de2f47d0"
      },
      "outputs": [
        {
          "output_type": "stream",
          "name": "stdout",
          "text": [
            "Requirement already satisfied: ucimlrepo in /usr/local/lib/python3.10/dist-packages (0.0.7)\n",
            "Requirement already satisfied: pandas>=1.0.0 in /usr/local/lib/python3.10/dist-packages (from ucimlrepo) (2.1.4)\n",
            "Requirement already satisfied: certifi>=2020.12.5 in /usr/local/lib/python3.10/dist-packages (from ucimlrepo) (2024.7.4)\n",
            "Requirement already satisfied: numpy<2,>=1.22.4 in /usr/local/lib/python3.10/dist-packages (from pandas>=1.0.0->ucimlrepo) (1.26.4)\n",
            "Requirement already satisfied: python-dateutil>=2.8.2 in /usr/local/lib/python3.10/dist-packages (from pandas>=1.0.0->ucimlrepo) (2.8.2)\n",
            "Requirement already satisfied: pytz>=2020.1 in /usr/local/lib/python3.10/dist-packages (from pandas>=1.0.0->ucimlrepo) (2024.1)\n",
            "Requirement already satisfied: tzdata>=2022.1 in /usr/local/lib/python3.10/dist-packages (from pandas>=1.0.0->ucimlrepo) (2024.1)\n",
            "Requirement already satisfied: six>=1.5 in /usr/local/lib/python3.10/dist-packages (from python-dateutil>=2.8.2->pandas>=1.0.0->ucimlrepo) (1.16.0)\n"
          ]
        }
      ],
      "source": [
        "pip install ucimlrepo"
      ]
    },
    {
      "cell_type": "code",
      "execution_count": null,
      "metadata": {
        "colab": {
          "base_uri": "https://localhost:8080/"
        },
        "id": "wEx5SXk--KsF",
        "outputId": "8eb3760f-61d9-403c-ae32-9775a25c1810"
      },
      "outputs": [
        {
          "output_type": "stream",
          "name": "stdout",
          "text": [
            "Combined DataFrame:    radius1  texture1  perimeter1   area1  smoothness1  compactness1  \\\n",
            "0    17.99     10.38      122.80  1001.0      0.11840       0.27760   \n",
            "1    20.57     17.77      132.90  1326.0      0.08474       0.07864   \n",
            "2    19.69     21.25      130.00  1203.0      0.10960       0.15990   \n",
            "3    11.42     20.38       77.58   386.1      0.14250       0.28390   \n",
            "4    20.29     14.34      135.10  1297.0      0.10030       0.13280   \n",
            "\n",
            "   concavity1  concave_points1  symmetry1  fractal_dimension1  ...  texture3  \\\n",
            "0      0.3001          0.14710     0.2419             0.07871  ...     17.33   \n",
            "1      0.0869          0.07017     0.1812             0.05667  ...     23.41   \n",
            "2      0.1974          0.12790     0.2069             0.05999  ...     25.53   \n",
            "3      0.2414          0.10520     0.2597             0.09744  ...     26.50   \n",
            "4      0.1980          0.10430     0.1809             0.05883  ...     16.67   \n",
            "\n",
            "   perimeter3   area3  smoothness3  compactness3  concavity3  concave_points3  \\\n",
            "0      184.60  2019.0       0.1622        0.6656      0.7119           0.2654   \n",
            "1      158.80  1956.0       0.1238        0.1866      0.2416           0.1860   \n",
            "2      152.50  1709.0       0.1444        0.4245      0.4504           0.2430   \n",
            "3       98.87   567.7       0.2098        0.8663      0.6869           0.2575   \n",
            "4      152.20  1575.0       0.1374        0.2050      0.4000           0.1625   \n",
            "\n",
            "   symmetry3  fractal_dimension3  Diagnosis  \n",
            "0     0.4601             0.11890          M  \n",
            "1     0.2750             0.08902          M  \n",
            "2     0.3613             0.08758          M  \n",
            "3     0.6638             0.17300          M  \n",
            "4     0.2364             0.07678          M  \n",
            "\n",
            "[5 rows x 31 columns]\n"
          ]
        }
      ],
      "source": [
        "import pandas as pd\n",
        "from ucimlrepo import fetch_ucirepo\n",
        "\n",
        "# Fetch dataset\n",
        "breast_cancer_wisconsin_diagnostic = fetch_ucirepo(id=17)\n",
        "\n",
        "# Inspect metadata and variables\n",
        "#print(\"Metadata:\", breast_cancer_wisconsin_diagnostic.metadata)\n",
        "#print(\"Variables:\", breast_cancer_wisconsin_diagnostic.variables)\n",
        "\n",
        "# Convert feature data and target data to pandas DataFrames\n",
        "X = breast_cancer_wisconsin_diagnostic.data.features\n",
        "y = breast_cancer_wisconsin_diagnostic.data.targets\n",
        "\n",
        "# Print the first few rows of X and y to understand their structure\n",
        "#print(\"Feature Data (X):\", X.head())\n",
        "#print(\"Target Data (y):\", y.head())\n",
        "\n",
        "# Create a DataFrame for features\n",
        "X_df = pd.DataFrame(X)\n",
        "\n",
        "# Create a DataFrame for target\n",
        "y_df = pd.DataFrame(y)\n",
        "\n",
        "# Optionally, merge the feature and target DataFrames\n",
        "data_df = pd.concat([X_df, y_df], axis=1)\n",
        "\n",
        "# Display the DataFrame\n",
        "print(\"Combined DataFrame:\", data_df.head())\n",
        "\n"
      ]
    },
    {
      "cell_type": "code",
      "execution_count": null,
      "metadata": {
        "id": "w6dFUIOi9Jpk"
      },
      "outputs": [],
      "source": [
        "y= np.array(data_df['Diagnosis'])"
      ]
    },
    {
      "cell_type": "code",
      "execution_count": null,
      "metadata": {
        "id": "NJ15Bvd_MAL8"
      },
      "outputs": [],
      "source": [
        "for j in range(y.shape[0]):\n",
        "  if y[j] == 'M':\n",
        "    y[j] = 1\n",
        "  else:\n",
        "    y[j] = 0"
      ]
    },
    {
      "cell_type": "code",
      "execution_count": null,
      "metadata": {
        "id": "04zUUEDQ9Ux1"
      },
      "outputs": [],
      "source": [
        "x = np.array(data_df.drop(['Diagnosis'], axis = 1))"
      ]
    },
    {
      "cell_type": "code",
      "source": [
        "x_train, x_test, y_train, y_test = train_test_split(x, y, test_size=0.2, random_state=42, stratify=y)"
      ],
      "metadata": {
        "id": "w63U0NduZLg5"
      },
      "execution_count": null,
      "outputs": []
    },
    {
      "cell_type": "markdown",
      "metadata": {
        "id": "kxaNDyDLCuVv"
      },
      "source": [
        "### **Functions**"
      ]
    },
    {
      "cell_type": "code",
      "execution_count": null,
      "metadata": {
        "id": "WzeB8UuaBLh9"
      },
      "outputs": [],
      "source": [
        "def sigmoid_function(x, w, b):\n",
        "  return 1 / (1 + pow(math.e, np.dot(w, x) + b))"
      ]
    },
    {
      "cell_type": "code",
      "execution_count": null,
      "metadata": {
        "id": "KuSqy68_CtZn"
      },
      "outputs": [],
      "source": [
        "learning_rate = 0.001"
      ]
    },
    {
      "cell_type": "code",
      "execution_count": null,
      "metadata": {
        "id": "fknMhcLgC4ln"
      },
      "outputs": [],
      "source": [
        "def calculate_gradient(x, y, w, b):\n",
        "  m = x.shape[0]\n",
        "  n = x.shape[1]\n",
        "\n",
        "  djdw = np.zeros(n)\n",
        "  djdb = 0\n",
        "\n",
        "  for i in range(m):\n",
        "    djdb += (sigmoid_function(x[i], w, b) - y[i])\n",
        "\n",
        "    for j in range(n):\n",
        "      djdw[j] += (sigmoid_function(x[i], w, b) - y[i]) * (x[i][j])\n",
        "\n",
        "  return [(djdw / m), (djdb / m)]"
      ]
    },
    {
      "cell_type": "code",
      "execution_count": null,
      "metadata": {
        "id": "B7vHBlj-ILmq"
      },
      "outputs": [],
      "source": [
        "def cost_function(x, y, w, b):\n",
        "  m = x.shape[0]\n",
        "  n = x.shape[1]\n",
        "\n",
        "  total_cost = 0\n",
        "  for i in range(m):\n",
        "    total_cost = total_cost + ((-1 * y[i]) * (np.log(sigmoid_function(x[i], w, b)))) - (1 - y[i]) * (np.log(1 - sigmoid_function(x[i], w, b)))\n",
        "\n",
        "\n",
        "  return total_cost / m"
      ]
    },
    {
      "cell_type": "code",
      "execution_count": null,
      "metadata": {
        "id": "_pcpmqY_FTKI"
      },
      "outputs": [],
      "source": [
        "def calculate_parameters(x, y, w, b):\n",
        "  m = x.shape[0]\n",
        "  n = x.shape[1]\n",
        "  w_copy = w.copy()\n",
        "  b_copy = b\n",
        "\n",
        "\n",
        "  while (cost_function(x, y, w, b) > 0.001):\n",
        "    gradient_calc = calculate_gradient(x, y, w, b)\n",
        "\n",
        "    b_copy = b\n",
        "    b_copy = b_copy - learning_rate * gradient_calc[1]\n",
        "\n",
        "    w_copy = w.copy()\n",
        "    w_copy = w_copy - learning_rate * gradient_calc[0]\n",
        "\n",
        "    w = w_copy\n",
        "    b = b_copy\n",
        "\n",
        "  return [w, b]"
      ]
    },
    {
      "cell_type": "code",
      "execution_count": null,
      "metadata": {
        "id": "f03wkui3NJpv"
      },
      "outputs": [],
      "source": [
        "def predict(x, w, b):\n",
        "  m = x.shape[0]\n",
        "  n = x.shape[1]\n",
        "  results = np.zeros(m)\n",
        "\n",
        "  for i in range(m):\n",
        "    results[i] = int(sigmoid_function(x[i], w, b) >= 0.5)\n",
        "\n",
        "  return results"
      ]
    },
    {
      "cell_type": "markdown",
      "metadata": {
        "id": "tC7CPTghOTAA"
      },
      "source": [
        "### **Predictions**"
      ]
    },
    {
      "cell_type": "code",
      "execution_count": null,
      "metadata": {
        "colab": {
          "base_uri": "https://localhost:8080/"
        },
        "id": "GEEOrpV9OEZ7",
        "outputId": "9edf6178-4099-4511-9d9f-3d8c7df2cbe2"
      },
      "outputs": [
        {
          "output_type": "stream",
          "name": "stderr",
          "text": [
            "<ipython-input-307-91cfb05bbf04>:2: RuntimeWarning: overflow encountered in scalar power\n",
            "  return 1 / (1 + pow(math.e, np.dot(w, x) + b))\n",
            "<ipython-input-310-398390699ee0>:7: RuntimeWarning: divide by zero encountered in log\n",
            "  total_cost = total_cost + ((-1 * y[i]) * (np.log(sigmoid_function(x[i], w, b)))) - (1 - y[i]) * (np.log(1 - sigmoid_function(x[i], w, b)))\n",
            "<ipython-input-310-398390699ee0>:7: RuntimeWarning: invalid value encountered in scalar multiply\n",
            "  total_cost = total_cost + ((-1 * y[i]) * (np.log(sigmoid_function(x[i], w, b)))) - (1 - y[i]) * (np.log(1 - sigmoid_function(x[i], w, b)))\n"
          ]
        }
      ],
      "source": [
        "parameters = calculate_parameters(x_train, y_train, np.zeros(x_train.shape[1]), 0.5)\n",
        "w = parameters[0]\n",
        "b = parameters[1]"
      ]
    },
    {
      "cell_type": "code",
      "execution_count": null,
      "metadata": {
        "colab": {
          "base_uri": "https://localhost:8080/"
        },
        "id": "X_s5AFv1NHKB",
        "outputId": "fddd3984-7c19-40fb-84b2-c95b7073ff9d"
      },
      "outputs": [
        {
          "output_type": "stream",
          "name": "stderr",
          "text": [
            "<ipython-input-307-91cfb05bbf04>:2: RuntimeWarning: overflow encountered in scalar power\n",
            "  return 1 / (1 + pow(math.e, np.dot(w, x) + b))\n"
          ]
        }
      ],
      "source": [
        "p = predict(x_test,w, b)"
      ]
    },
    {
      "cell_type": "code",
      "execution_count": null,
      "metadata": {
        "colab": {
          "base_uri": "https://localhost:8080/"
        },
        "id": "HmhXSPh5OSCl",
        "outputId": "3e3295b6-de3d-4a1a-efed-c3e1aa6ce4ca"
      },
      "outputs": [
        {
          "output_type": "stream",
          "name": "stdout",
          "text": [
            "Train Accuracy: 63.157895\n"
          ]
        }
      ],
      "source": [
        "print('Train Accuracy: %f'%(np.mean(p == y_test) * 100))"
      ]
    },
    {
      "cell_type": "code",
      "source": [],
      "metadata": {
        "id": "8LepewLSa_pi"
      },
      "execution_count": null,
      "outputs": []
    }
  ],
  "metadata": {
    "colab": {
      "provenance": []
    },
    "kernelspec": {
      "display_name": "Python 3",
      "name": "python3"
    },
    "language_info": {
      "name": "python"
    }
  },
  "nbformat": 4,
  "nbformat_minor": 0
}